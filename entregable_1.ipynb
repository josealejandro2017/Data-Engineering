{
 "cells": [
  {
   "cell_type": "markdown",
   "id": "5c580da4",
   "metadata": {},
   "source": [
    " ## <center> Entregable N° 1 - Data Engineering </center>"
   ]
  },
  {
   "cell_type": "code",
   "execution_count": 1,
   "id": "4673ed69",
   "metadata": {},
   "outputs": [],
   "source": [
    "import requests\n",
    "import pandas as pd\n",
    "import numpy as np\n",
    "import json\n",
    "import openpyxl"
   ]
  },
  {
   "cell_type": "code",
   "execution_count": 2,
   "id": "ab7c6781",
   "metadata": {},
   "outputs": [
    {
     "name": "stdout",
     "output_type": "stream",
     "text": [
      "<Response [200]>\n"
     ]
    }
   ],
   "source": [
    "url = 'https://tradestie.com/api/v1/apps/reddit'\n",
    "response = requests.get(url)\n",
    "print (response)"
   ]
  },
  {
   "cell_type": "code",
   "execution_count": 3,
   "id": "84a309dd",
   "metadata": {},
   "outputs": [
    {
     "name": "stdout",
     "output_type": "stream",
     "text": [
      "[{'no_of_comments': 53, 'sentiment': 'Bullish', 'sentiment_score': 0.033, 'ticker': 'AMC'}, {'no_of_comments': 27, 'sentiment': 'Bearish', 'sentiment_score': -0.024, 'ticker': 'TSLA'}, {'no_of_comments': 26, 'sentiment': 'Bullish', 'sentiment_score': 0.116, 'ticker': 'AI'}, {'no_of_comments': 24, 'sentiment': 'Bullish', 'sentiment_score': 0.06, 'ticker': 'NVDA'}, {'no_of_comments': 21, 'sentiment': 'Bullish', 'sentiment_score': 0.046, 'ticker': 'JPM'}, {'no_of_comments': 20, 'sentiment': 'Bullish', 'sentiment_score': 0.104, 'ticker': 'QQQ'}, {'no_of_comments': 13, 'sentiment': 'Bullish', 'sentiment_score': 0.028, 'ticker': 'LLY'}, {'no_of_comments': 12, 'sentiment': 'Bullish', 'sentiment_score': 0.112, 'ticker': 'NFLX'}, {'no_of_comments': 12, 'sentiment': 'Bullish', 'sentiment_score': 0.1, 'ticker': 'LMT'}, {'no_of_comments': 10, 'sentiment': 'Bullish', 'sentiment_score': 0.236, 'ticker': 'IRS'}, {'no_of_comments': 10, 'sentiment': 'Bullish', 'sentiment_score': 0.15, 'ticker': 'SQQQ'}, {'no_of_comments': 9, 'sentiment': 'Bullish', 'sentiment_score': 0.158, 'ticker': 'MSFT'}, {'no_of_comments': 8, 'sentiment': 'Bearish', 'sentiment_score': -0.323, 'ticker': 'AA'}, {'no_of_comments': 7, 'sentiment': 'Bullish', 'sentiment_score': 0.184, 'ticker': 'PYPL'}, {'no_of_comments': 6, 'sentiment': 'Bearish', 'sentiment_score': -0.228, 'ticker': 'ON'}, {'no_of_comments': 5, 'sentiment': 'Bullish', 'sentiment_score': 0.192, 'ticker': 'TLT'}, {'no_of_comments': 5, 'sentiment': 'Bullish', 'sentiment_score': 0.264, 'ticker': 'UK'}, {'no_of_comments': 4, 'sentiment': 'Bearish', 'sentiment_score': -0.155, 'ticker': 'AAPL'}, {'no_of_comments': 4, 'sentiment': 'Bullish', 'sentiment_score': 0.213, 'ticker': 'DG'}, {'no_of_comments': 4, 'sentiment': 'Bearish', 'sentiment_score': -0.024, 'ticker': 'TV'}, {'no_of_comments': 4, 'sentiment': 'Bullish', 'sentiment_score': 0.09, 'ticker': 'IP'}, {'no_of_comments': 4, 'sentiment': 'Bearish', 'sentiment_score': -0.291, 'ticker': 'SAVA'}, {'no_of_comments': 3, 'sentiment': 'Bearish', 'sentiment_score': -0.195, 'ticker': 'PLTR'}, {'no_of_comments': 3, 'sentiment': 'Bullish', 'sentiment_score': 0.384, 'ticker': 'BABA'}, {'no_of_comments': 3, 'sentiment': 'Bullish', 'sentiment_score': 0.482, 'ticker': 'TD'}, {'no_of_comments': 3, 'sentiment': 'Bearish', 'sentiment_score': -0.201, 'ticker': 'NOW'}, {'no_of_comments': 3, 'sentiment': 'Bearish', 'sentiment_score': -0.06, 'ticker': 'TQQQ'}, {'no_of_comments': 3, 'sentiment': 'Bearish', 'sentiment_score': -0.127, 'ticker': 'EOD'}, {'no_of_comments': 3, 'sentiment': 'Bearish', 'sentiment_score': -0.13, 'ticker': 'BEAT'}, {'no_of_comments': 2, 'sentiment': 'Bullish', 'sentiment_score': 0.145, 'ticker': 'TA'}, {'no_of_comments': 2, 'sentiment': 'Bullish', 'sentiment_score': 0.348, 'ticker': 'USB'}, {'no_of_comments': 2, 'sentiment': 'Bearish', 'sentiment_score': -0.408, 'ticker': 'BBBY'}, {'no_of_comments': 2, 'sentiment': 'Bullish', 'sentiment_score': 0.077, 'ticker': 'BA'}, {'no_of_comments': 2, 'sentiment': 'Bullish', 'sentiment_score': 0.382, 'ticker': 'LIFE'}, {'no_of_comments': 2, 'sentiment': 'Bearish', 'sentiment_score': 0.0, 'ticker': 'BLK'}, {'no_of_comments': 2, 'sentiment': 'Bullish', 'sentiment_score': 0.182, 'ticker': 'FB'}, {'no_of_comments': 2, 'sentiment': 'Bullish', 'sentiment_score': 0.375, 'ticker': 'JP'}, {'no_of_comments': 2, 'sentiment': 'Bullish', 'sentiment_score': 0.43, 'ticker': 'PBR'}, {'no_of_comments': 2, 'sentiment': 'Bearish', 'sentiment_score': -0.276, 'ticker': 'XOM'}, {'no_of_comments': 2, 'sentiment': 'Bullish', 'sentiment_score': 0.481, 'ticker': 'DVD'}, {'no_of_comments': 2, 'sentiment': 'Bearish', 'sentiment_score': -0.501, 'ticker': 'ES'}, {'no_of_comments': 2, 'sentiment': 'Bearish', 'sentiment_score': -0.561, 'ticker': 'PUMP'}, {'no_of_comments': 2, 'sentiment': 'Bullish', 'sentiment_score': 0.3, 'ticker': 'BR'}, {'no_of_comments': 2, 'sentiment': 'Bearish', 'sentiment_score': -0.138, 'ticker': 'RSI'}, {'no_of_comments': 2, 'sentiment': 'Bullish', 'sentiment_score': 0.039, 'ticker': 'ONE'}, {'no_of_comments': 2, 'sentiment': 'Bearish', 'sentiment_score': -0.271, 'ticker': 'IBKR'}, {'no_of_comments': 2, 'sentiment': 'Bearish', 'sentiment_score': -0.276, 'ticker': 'TLRY'}, {'no_of_comments': 2, 'sentiment': 'Bullish', 'sentiment_score': 0.032, 'ticker': 'DIS'}, {'no_of_comments': 2, 'sentiment': 'Bearish', 'sentiment_score': -0.115, 'ticker': 'ATVI'}, {'no_of_comments': 2, 'sentiment': 'Bearish', 'sentiment_score': 0.0, 'ticker': 'LULU'}]\n"
     ]
    }
   ],
   "source": [
    "response_json = json.loads(response.text)\n",
    "print(response_json)"
   ]
  },
  {
   "cell_type": "code",
   "execution_count": 4,
   "id": "1fdca291",
   "metadata": {},
   "outputs": [
    {
     "data": {
      "text/html": [
       "<div>\n",
       "<style scoped>\n",
       "    .dataframe tbody tr th:only-of-type {\n",
       "        vertical-align: middle;\n",
       "    }\n",
       "\n",
       "    .dataframe tbody tr th {\n",
       "        vertical-align: top;\n",
       "    }\n",
       "\n",
       "    .dataframe thead th {\n",
       "        text-align: right;\n",
       "    }\n",
       "</style>\n",
       "<table border=\"1\" class=\"dataframe\">\n",
       "  <thead>\n",
       "    <tr style=\"text-align: right;\">\n",
       "      <th></th>\n",
       "      <th>no_of_comments</th>\n",
       "      <th>sentiment</th>\n",
       "      <th>sentiment_score</th>\n",
       "      <th>ticker</th>\n",
       "    </tr>\n",
       "  </thead>\n",
       "  <tbody>\n",
       "    <tr>\n",
       "      <th>0</th>\n",
       "      <td>53</td>\n",
       "      <td>Bullish</td>\n",
       "      <td>0.033</td>\n",
       "      <td>AMC</td>\n",
       "    </tr>\n",
       "    <tr>\n",
       "      <th>1</th>\n",
       "      <td>27</td>\n",
       "      <td>Bearish</td>\n",
       "      <td>-0.024</td>\n",
       "      <td>TSLA</td>\n",
       "    </tr>\n",
       "    <tr>\n",
       "      <th>2</th>\n",
       "      <td>26</td>\n",
       "      <td>Bullish</td>\n",
       "      <td>0.116</td>\n",
       "      <td>AI</td>\n",
       "    </tr>\n",
       "    <tr>\n",
       "      <th>3</th>\n",
       "      <td>24</td>\n",
       "      <td>Bullish</td>\n",
       "      <td>0.060</td>\n",
       "      <td>NVDA</td>\n",
       "    </tr>\n",
       "    <tr>\n",
       "      <th>4</th>\n",
       "      <td>21</td>\n",
       "      <td>Bullish</td>\n",
       "      <td>0.046</td>\n",
       "      <td>JPM</td>\n",
       "    </tr>\n",
       "  </tbody>\n",
       "</table>\n",
       "</div>"
      ],
      "text/plain": [
       "   no_of_comments sentiment  sentiment_score ticker\n",
       "0              53   Bullish            0.033    AMC\n",
       "1              27   Bearish           -0.024   TSLA\n",
       "2              26   Bullish            0.116     AI\n",
       "3              24   Bullish            0.060   NVDA\n",
       "4              21   Bullish            0.046    JPM"
      ]
     },
     "execution_count": 4,
     "metadata": {},
     "output_type": "execute_result"
    }
   ],
   "source": [
    "df_response = pd.DataFrame.from_dict(response_json)\n",
    "df_response.head()"
   ]
  },
  {
   "cell_type": "code",
   "execution_count": 5,
   "id": "175b39af",
   "metadata": {},
   "outputs": [
    {
     "data": {
      "text/plain": [
       "(50, 4)"
      ]
     },
     "execution_count": 5,
     "metadata": {},
     "output_type": "execute_result"
    }
   ],
   "source": [
    "df_response.shape"
   ]
  },
  {
   "cell_type": "code",
   "execution_count": 6,
   "id": "25a99b06",
   "metadata": {},
   "outputs": [
    {
     "name": "stdout",
     "output_type": "stream",
     "text": [
      "<class 'pandas.core.frame.DataFrame'>\n",
      "RangeIndex: 50 entries, 0 to 49\n",
      "Data columns (total 4 columns):\n",
      " #   Column           Non-Null Count  Dtype  \n",
      "---  ------           --------------  -----  \n",
      " 0   no_of_comments   50 non-null     int64  \n",
      " 1   sentiment        50 non-null     object \n",
      " 2   sentiment_score  50 non-null     float64\n",
      " 3   ticker           50 non-null     object \n",
      "dtypes: float64(1), int64(1), object(2)\n",
      "memory usage: 1.7+ KB\n"
     ]
    }
   ],
   "source": [
    "df_response.info()"
   ]
  },
  {
   "cell_type": "code",
   "execution_count": 7,
   "id": "a3e065f2",
   "metadata": {},
   "outputs": [
    {
     "data": {
      "text/html": [
       "<div>\n",
       "<style scoped>\n",
       "    .dataframe tbody tr th:only-of-type {\n",
       "        vertical-align: middle;\n",
       "    }\n",
       "\n",
       "    .dataframe tbody tr th {\n",
       "        vertical-align: top;\n",
       "    }\n",
       "\n",
       "    .dataframe thead th {\n",
       "        text-align: right;\n",
       "    }\n",
       "</style>\n",
       "<table border=\"1\" class=\"dataframe\">\n",
       "  <thead>\n",
       "    <tr style=\"text-align: right;\">\n",
       "      <th></th>\n",
       "      <th>no_of_comments</th>\n",
       "      <th>sentiment</th>\n",
       "      <th>sentiment_score</th>\n",
       "      <th>ticker</th>\n",
       "    </tr>\n",
       "  </thead>\n",
       "  <tbody>\n",
       "    <tr>\n",
       "      <th>45</th>\n",
       "      <td>2</td>\n",
       "      <td>Bearish</td>\n",
       "      <td>-0.271</td>\n",
       "      <td>IBKR</td>\n",
       "    </tr>\n",
       "    <tr>\n",
       "      <th>46</th>\n",
       "      <td>2</td>\n",
       "      <td>Bearish</td>\n",
       "      <td>-0.276</td>\n",
       "      <td>TLRY</td>\n",
       "    </tr>\n",
       "    <tr>\n",
       "      <th>47</th>\n",
       "      <td>2</td>\n",
       "      <td>Bullish</td>\n",
       "      <td>0.032</td>\n",
       "      <td>DIS</td>\n",
       "    </tr>\n",
       "    <tr>\n",
       "      <th>48</th>\n",
       "      <td>2</td>\n",
       "      <td>Bearish</td>\n",
       "      <td>-0.115</td>\n",
       "      <td>ATVI</td>\n",
       "    </tr>\n",
       "    <tr>\n",
       "      <th>49</th>\n",
       "      <td>2</td>\n",
       "      <td>Bearish</td>\n",
       "      <td>0.000</td>\n",
       "      <td>LULU</td>\n",
       "    </tr>\n",
       "  </tbody>\n",
       "</table>\n",
       "</div>"
      ],
      "text/plain": [
       "    no_of_comments sentiment  sentiment_score ticker\n",
       "45               2   Bearish           -0.271   IBKR\n",
       "46               2   Bearish           -0.276   TLRY\n",
       "47               2   Bullish            0.032    DIS\n",
       "48               2   Bearish           -0.115   ATVI\n",
       "49               2   Bearish            0.000   LULU"
      ]
     },
     "execution_count": 7,
     "metadata": {},
     "output_type": "execute_result"
    }
   ],
   "source": [
    "df_response.tail()"
   ]
  },
  {
   "cell_type": "code",
   "execution_count": 10,
   "id": "c009bbb6",
   "metadata": {},
   "outputs": [],
   "source": [
    "df_response.to_excel('df_N.xlsx', index=False) # Guardo la informacion en un excel"
   ]
  }
 ],
 "metadata": {
  "kernelspec": {
   "display_name": "Python 3 (ipykernel)",
   "language": "python",
   "name": "python3"
  },
  "language_info": {
   "codemirror_mode": {
    "name": "ipython",
    "version": 3
   },
   "file_extension": ".py",
   "mimetype": "text/x-python",
   "name": "python",
   "nbconvert_exporter": "python",
   "pygments_lexer": "ipython3",
   "version": "3.9.1"
  }
 },
 "nbformat": 4,
 "nbformat_minor": 5
}
