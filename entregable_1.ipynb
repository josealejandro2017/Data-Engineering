{
 "cells": [
  {
   "cell_type": "markdown",
   "id": "5c580da4",
   "metadata": {},
   "source": [
    " ## <center> Entregable N° 1 - Data Engineering </center>"
   ]
  },
  {
   "cell_type": "code",
   "execution_count": 28,
   "id": "4673ed69",
   "metadata": {},
   "outputs": [],
   "source": [
    "import requests\n",
    "import pandas as pd\n",
    "import numpy as np\n",
    "import json\n",
    "import openpyxl"
   ]
  },
  {
   "cell_type": "code",
   "execution_count": 36,
   "id": "ab7c6781",
   "metadata": {},
   "outputs": [
    {
     "name": "stdout",
     "output_type": "stream",
     "text": [
      "<Response [200]>\n"
     ]
    }
   ],
   "source": [
    "url = 'https://tradestie.com/api/v1/apps/reddit'\n",
    "response = requests.get(url)\n",
    "print (response)"
   ]
  },
  {
   "cell_type": "code",
   "execution_count": 37,
   "id": "84a309dd",
   "metadata": {},
   "outputs": [
    {
     "name": "stdout",
     "output_type": "stream",
     "text": [
      "[{'no_of_comments': 28, 'sentiment': 'Bullish', 'sentiment_score': 0.194, 'ticker': 'AMC'}, {'no_of_comments': 21, 'sentiment': 'Bullish', 'sentiment_score': 0.071, 'ticker': 'NVDA'}, {'no_of_comments': 21, 'sentiment': 'Bullish', 'sentiment_score': 0.046, 'ticker': 'JPM'}, {'no_of_comments': 19, 'sentiment': 'Bearish', 'sentiment_score': -0.125, 'ticker': 'TSLA'}, {'no_of_comments': 14, 'sentiment': 'Bullish', 'sentiment_score': 0.165, 'ticker': 'AI'}, {'no_of_comments': 12, 'sentiment': 'Bullish', 'sentiment_score': 0.041, 'ticker': 'QQQ'}, {'no_of_comments': 10, 'sentiment': 'Bullish', 'sentiment_score': 0.236, 'ticker': 'IRS'}, {'no_of_comments': 10, 'sentiment': 'Bullish', 'sentiment_score': 0.046, 'ticker': 'LLY'}, {'no_of_comments': 9, 'sentiment': 'Bullish', 'sentiment_score': 0.158, 'ticker': 'MSFT'}, {'no_of_comments': 8, 'sentiment': 'Bullish', 'sentiment_score': 0.165, 'ticker': 'NFLX'}, {'no_of_comments': 7, 'sentiment': 'Bullish', 'sentiment_score': 0.184, 'ticker': 'PYPL'}, {'no_of_comments': 5, 'sentiment': 'Bullish', 'sentiment_score': 0.01, 'ticker': 'LMT'}, {'no_of_comments': 5, 'sentiment': 'Bullish', 'sentiment_score': 0.264, 'ticker': 'UK'}, {'no_of_comments': 4, 'sentiment': 'Bullish', 'sentiment_score': 0.09, 'ticker': 'IP'}, {'no_of_comments': 4, 'sentiment': 'Bullish', 'sentiment_score': 0.24, 'ticker': 'TLT'}, {'no_of_comments': 3, 'sentiment': 'Bullish', 'sentiment_score': 0.187, 'ticker': 'TV'}, {'no_of_comments': 3, 'sentiment': 'Bearish', 'sentiment_score': -0.011, 'ticker': 'SQQQ'}, {'no_of_comments': 3, 'sentiment': 'Bearish', 'sentiment_score': -0.204, 'ticker': 'AA'}, {'no_of_comments': 3, 'sentiment': 'Bearish', 'sentiment_score': -0.105, 'ticker': 'SAVA'}, {'no_of_comments': 3, 'sentiment': 'Bullish', 'sentiment_score': 0.384, 'ticker': 'BABA'}, {'no_of_comments': 3, 'sentiment': 'Bearish', 'sentiment_score': -0.028, 'ticker': 'ON'}, {'no_of_comments': 3, 'sentiment': 'Bullish', 'sentiment_score': 0.233, 'ticker': 'DG'}, {'no_of_comments': 3, 'sentiment': 'Bearish', 'sentiment_score': -0.13, 'ticker': 'BEAT'}, {'no_of_comments': 2, 'sentiment': 'Bullish', 'sentiment_score': 0.032, 'ticker': 'DIS'}, {'no_of_comments': 2, 'sentiment': 'Bullish', 'sentiment_score': 0.077, 'ticker': 'BA'}, {'no_of_comments': 2, 'sentiment': 'Bearish', 'sentiment_score': -0.292, 'ticker': 'PLTR'}, {'no_of_comments': 2, 'sentiment': 'Bearish', 'sentiment_score': 0.0, 'ticker': 'BLK'}, {'no_of_comments': 2, 'sentiment': 'Bearish', 'sentiment_score': -0.138, 'ticker': 'RSI'}, {'no_of_comments': 2, 'sentiment': 'Bearish', 'sentiment_score': -0.191, 'ticker': 'EOD'}, {'no_of_comments': 2, 'sentiment': 'Bearish', 'sentiment_score': -0.271, 'ticker': 'IBKR'}, {'no_of_comments': 2, 'sentiment': 'Bullish', 'sentiment_score': 0.348, 'ticker': 'USB'}, {'no_of_comments': 2, 'sentiment': 'Bullish', 'sentiment_score': 0.3, 'ticker': 'BR'}, {'no_of_comments': 2, 'sentiment': 'Bullish', 'sentiment_score': 0.145, 'ticker': 'TA'}, {'no_of_comments': 2, 'sentiment': 'Bullish', 'sentiment_score': 0.375, 'ticker': 'JP'}, {'no_of_comments': 2, 'sentiment': 'Bearish', 'sentiment_score': -0.276, 'ticker': 'XOM'}, {'no_of_comments': 2, 'sentiment': 'Bearish', 'sentiment_score': -0.115, 'ticker': 'ATVI'}, {'no_of_comments': 2, 'sentiment': 'Bearish', 'sentiment_score': -0.276, 'ticker': 'NOW'}, {'no_of_comments': 2, 'sentiment': 'Bullish', 'sentiment_score': 0.481, 'ticker': 'DVD'}, {'no_of_comments': 2, 'sentiment': 'Bearish', 'sentiment_score': -0.09, 'ticker': 'TQQQ'}, {'no_of_comments': 1, 'sentiment': 'Bearish', 'sentiment_score': -0.586, 'ticker': 'PGR'}, {'no_of_comments': 1, 'sentiment': 'Bearish', 'sentiment_score': -0.459, 'ticker': 'WBA'}, {'no_of_comments': 1, 'sentiment': 'Bearish', 'sentiment_score': -0.542, 'ticker': 'MCD'}, {'no_of_comments': 1, 'sentiment': 'Bearish', 'sentiment_score': -0.818, 'ticker': 'SPR'}, {'no_of_comments': 1, 'sentiment': 'Bearish', 'sentiment_score': 0.0, 'ticker': 'PANW'}, {'no_of_comments': 1, 'sentiment': 'Bearish', 'sentiment_score': 0.0, 'ticker': 'RING'}, {'no_of_comments': 1, 'sentiment': 'Bearish', 'sentiment_score': -0.552, 'ticker': 'TLRY'}, {'no_of_comments': 1, 'sentiment': 'Bearish', 'sentiment_score': -0.556, 'ticker': 'OPT'}, {'no_of_comments': 1, 'sentiment': 'Bearish', 'sentiment_score': -0.599, 'ticker': 'BC'}, {'no_of_comments': 1, 'sentiment': 'Bearish', 'sentiment_score': -0.542, 'ticker': 'SEDG'}, {'no_of_comments': 1, 'sentiment': 'Bearish', 'sentiment_score': -0.153, 'ticker': 'JOE'}]\n"
     ]
    }
   ],
   "source": [
    "response_json = json.loads(response.text)\n",
    "print(response_json)"
   ]
  },
  {
   "cell_type": "code",
   "execution_count": 38,
   "id": "1fdca291",
   "metadata": {},
   "outputs": [
    {
     "data": {
      "text/html": [
       "<div>\n",
       "<style scoped>\n",
       "    .dataframe tbody tr th:only-of-type {\n",
       "        vertical-align: middle;\n",
       "    }\n",
       "\n",
       "    .dataframe tbody tr th {\n",
       "        vertical-align: top;\n",
       "    }\n",
       "\n",
       "    .dataframe thead th {\n",
       "        text-align: right;\n",
       "    }\n",
       "</style>\n",
       "<table border=\"1\" class=\"dataframe\">\n",
       "  <thead>\n",
       "    <tr style=\"text-align: right;\">\n",
       "      <th></th>\n",
       "      <th>no_of_comments</th>\n",
       "      <th>sentiment</th>\n",
       "      <th>sentiment_score</th>\n",
       "      <th>ticker</th>\n",
       "    </tr>\n",
       "  </thead>\n",
       "  <tbody>\n",
       "    <tr>\n",
       "      <th>0</th>\n",
       "      <td>28</td>\n",
       "      <td>Bullish</td>\n",
       "      <td>0.194</td>\n",
       "      <td>AMC</td>\n",
       "    </tr>\n",
       "    <tr>\n",
       "      <th>1</th>\n",
       "      <td>21</td>\n",
       "      <td>Bullish</td>\n",
       "      <td>0.071</td>\n",
       "      <td>NVDA</td>\n",
       "    </tr>\n",
       "    <tr>\n",
       "      <th>2</th>\n",
       "      <td>21</td>\n",
       "      <td>Bullish</td>\n",
       "      <td>0.046</td>\n",
       "      <td>JPM</td>\n",
       "    </tr>\n",
       "    <tr>\n",
       "      <th>3</th>\n",
       "      <td>19</td>\n",
       "      <td>Bearish</td>\n",
       "      <td>-0.125</td>\n",
       "      <td>TSLA</td>\n",
       "    </tr>\n",
       "    <tr>\n",
       "      <th>4</th>\n",
       "      <td>14</td>\n",
       "      <td>Bullish</td>\n",
       "      <td>0.165</td>\n",
       "      <td>AI</td>\n",
       "    </tr>\n",
       "  </tbody>\n",
       "</table>\n",
       "</div>"
      ],
      "text/plain": [
       "   no_of_comments sentiment  sentiment_score ticker\n",
       "0              28   Bullish            0.194    AMC\n",
       "1              21   Bullish            0.071   NVDA\n",
       "2              21   Bullish            0.046    JPM\n",
       "3              19   Bearish           -0.125   TSLA\n",
       "4              14   Bullish            0.165     AI"
      ]
     },
     "execution_count": 38,
     "metadata": {},
     "output_type": "execute_result"
    }
   ],
   "source": [
    "df_response = pd.DataFrame.from_dict(response_json)\n",
    "df_response.head()"
   ]
  },
  {
   "cell_type": "code",
   "execution_count": 39,
   "id": "175b39af",
   "metadata": {},
   "outputs": [
    {
     "data": {
      "text/plain": [
       "(50, 4)"
      ]
     },
     "execution_count": 39,
     "metadata": {},
     "output_type": "execute_result"
    }
   ],
   "source": [
    "df_response.shape"
   ]
  },
  {
   "cell_type": "code",
   "execution_count": 40,
   "id": "25a99b06",
   "metadata": {},
   "outputs": [
    {
     "name": "stdout",
     "output_type": "stream",
     "text": [
      "<class 'pandas.core.frame.DataFrame'>\n",
      "RangeIndex: 50 entries, 0 to 49\n",
      "Data columns (total 4 columns):\n",
      " #   Column           Non-Null Count  Dtype  \n",
      "---  ------           --------------  -----  \n",
      " 0   no_of_comments   50 non-null     int64  \n",
      " 1   sentiment        50 non-null     object \n",
      " 2   sentiment_score  50 non-null     float64\n",
      " 3   ticker           50 non-null     object \n",
      "dtypes: float64(1), int64(1), object(2)\n",
      "memory usage: 1.7+ KB\n"
     ]
    }
   ],
   "source": [
    "df_response.info()"
   ]
  },
  {
   "cell_type": "code",
   "execution_count": 41,
   "id": "c009bbb6",
   "metadata": {},
   "outputs": [],
   "source": [
    "df_response.to_excel('df_N.xlsx', index=False) # Guardo la informacion en un excel"
   ]
  },
  {
   "cell_type": "code",
   "execution_count": null,
   "id": "9ca29059",
   "metadata": {},
   "outputs": [],
   "source": []
  }
 ],
 "metadata": {
  "kernelspec": {
   "display_name": "Python 3 (ipykernel)",
   "language": "python",
   "name": "python3"
  },
  "language_info": {
   "codemirror_mode": {
    "name": "ipython",
    "version": 3
   },
   "file_extension": ".py",
   "mimetype": "text/x-python",
   "name": "python",
   "nbconvert_exporter": "python",
   "pygments_lexer": "ipython3",
   "version": "3.9.1"
  }
 },
 "nbformat": 4,
 "nbformat_minor": 5
}
