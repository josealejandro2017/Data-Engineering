{
 "cells": [
  {
   "cell_type": "markdown",
   "id": "c10482a2",
   "metadata": {},
   "source": [
    " ## <center> Entregable N° 2 - Data Engineering </center>"
   ]
  },
  {
   "cell_type": "code",
   "execution_count": 1,
   "id": "862cf86f",
   "metadata": {},
   "outputs": [],
   "source": [
    "# Importamos Librerias\n",
    "\n",
    "import psycopg2\n",
    "import pandas as pd\n",
    "import requests\n",
    "import json"
   ]
  },
  {
   "cell_type": "code",
   "execution_count": 2,
   "id": "8ef4466b",
   "metadata": {},
   "outputs": [],
   "source": [
    "# Definimos los datos de conexión a Redshift\n",
    "\n",
    "host = \"data-engineer-cluster.cyhh5bfevlmn.us-east-1.redshift.amazonaws.com\"\n",
    "port = 5439\n",
    "database = \"data-engineer-database\"\n",
    "user = \"sanabriaja15_coderhouse\"\n",
    "with open(\"pwd.txt\",'r') as f:\n",
    "    password = f.read()"
   ]
  },
  {
   "cell_type": "code",
   "execution_count": 3,
   "id": "25367fd2",
   "metadata": {},
   "outputs": [],
   "source": [
    "# Definimos las columnas de la tabla\n",
    "\n",
    "columns = [\"no_of_comments\", \"sentiment\", \"sentiment_score\",\"ticker\"] \n",
    "\n",
    "\n",
    "# Definimos la función para leer los datos de la API\n",
    "\n",
    "def read_data():\n",
    "        url = 'https://tradestie.com/api/v1/apps/reddit'\n",
    "        response = requests.get(url)\n",
    "        response_json = json.loads(response.text)\n",
    "        return response_json\n",
    "\n",
    "# Creamos la tabla en Redshift\n",
    "\n",
    "def create_table():\n",
    "    connection = psycopg2.connect(\n",
    "        host=host,\n",
    "        port=port,\n",
    "        database=database,\n",
    "        user=user,\n",
    "        password=password,\n",
    "    )\n",
    "    cursor = connection.cursor()\n",
    "    cursor.execute(\n",
    "        f\"CREATE TABLE entregable2 (no_of_comments int, sentiment varchar (50), sentiment_score varchar (50), ticker varchar (50))\"\n",
    "        \n",
    "    )\n",
    "    connection.commit()\n",
    "    cursor.close()"
   ]
  },
  {
   "cell_type": "code",
   "execution_count": 4,
   "id": "50b9bab9",
   "metadata": {},
   "outputs": [],
   "source": [
    "# Cargamos los datos en la tabla\n",
    "def load_data():\n",
    "    connection = psycopg2.connect(\n",
    "        host=host,\n",
    "        port=port,\n",
    "        database=database,\n",
    "        user=user,\n",
    "        password=password,\n",
    "    )\n",
    "    cursor = connection.cursor()\n",
    "    data = read_data()\n",
    "    for row in data:\n",
    "        cursor.execute(\n",
    "            f\"INSERT INTO entregable2 (no_of_comments, sentiment, sentiment_score,ticker) VALUES ({row['no_of_comments']}, '{row['sentiment']}', '{row['sentiment_score']}', '{row['ticker']}')\"\n",
    "                                \n",
    "        )\n",
    "    connection.commit()\n",
    "    cursor.close()"
   ]
  },
  {
   "cell_type": "code",
   "execution_count": 5,
   "id": "5496e68a",
   "metadata": {},
   "outputs": [],
   "source": [
    "# Ejecutamos las funciones\n",
    "create_table()\n",
    "load_data()"
   ]
  },
  {
   "cell_type": "code",
   "execution_count": 6,
   "id": "e41ceef5",
   "metadata": {},
   "outputs": [],
   "source": [
    "# Realiza operaciones en la base de datos, verificación.\n",
    "\n",
    "try:\n",
    "    connection = psycopg2.connect(\n",
    "        host=host,\n",
    "        port=port,\n",
    "        database=database,\n",
    "        user=user,\n",
    "        password=password,\n",
    "    )\n",
    "    \n",
    "\n",
    "except Error as e:\n",
    "    print(\"Error de conexión\", e)"
   ]
  },
  {
   "cell_type": "code",
   "execution_count": 7,
   "id": "464ac832",
   "metadata": {},
   "outputs": [
    {
     "name": "stdout",
     "output_type": "stream",
     "text": [
      "(53, 'Bullish', '0.033', 'AMC')\n",
      "(27, 'Bearish', '-0.024', 'TSLA')\n",
      "(26, 'Bullish', '0.116', 'AI')\n",
      "(24, 'Bullish', '0.06', 'NVDA')\n",
      "(21, 'Bullish', '0.046', 'JPM')\n",
      "(20, 'Bullish', '0.104', 'QQQ')\n",
      "(13, 'Bullish', '0.028', 'LLY')\n",
      "(12, 'Bullish', '0.112', 'NFLX')\n",
      "(12, 'Bullish', '0.1', 'LMT')\n",
      "(10, 'Bullish', '0.236', 'IRS')\n",
      "(10, 'Bullish', '0.15', 'SQQQ')\n",
      "(9, 'Bullish', '0.158', 'MSFT')\n",
      "(8, 'Bearish', '-0.323', 'AA')\n",
      "(7, 'Bullish', '0.184', 'PYPL')\n",
      "(6, 'Bearish', '-0.228', 'ON')\n",
      "(5, 'Bullish', '0.264', 'UK')\n",
      "(5, 'Bullish', '0.192', 'TLT')\n",
      "(4, 'Bearish', '-0.155', 'AAPL')\n",
      "(4, 'Bullish', '0.213', 'DG')\n",
      "(4, 'Bearish', '-0.024', 'TV')\n",
      "(4, 'Bullish', '0.09', 'IP')\n",
      "(4, 'Bearish', '-0.291', 'SAVA')\n",
      "(3, 'Bearish', '-0.195', 'PLTR')\n",
      "(3, 'Bullish', '0.384', 'BABA')\n",
      "(3, 'Bullish', '0.482', 'TD')\n",
      "(3, 'Bearish', '-0.201', 'NOW')\n",
      "(3, 'Bearish', '-0.06', 'TQQQ')\n",
      "(3, 'Bearish', '-0.13', 'BEAT')\n",
      "(3, 'Bearish', '-0.127', 'EOD')\n",
      "(2, 'Bullish', '0.145', 'TA')\n",
      "(2, 'Bearish', '0.0', 'LULU')\n",
      "(2, 'Bullish', '0.348', 'USB')\n",
      "(2, 'Bullish', '0.077', 'BA')\n",
      "(2, 'Bearish', '-0.408', 'BBBY')\n",
      "(2, 'Bearish', '-0.276', 'TLRY')\n",
      "(2, 'Bearish', '-0.501', 'ES')\n",
      "(2, 'Bullish', '0.182', 'FB')\n",
      "(2, 'Bearish', '0.0', 'BLK')\n",
      "(2, 'Bullish', '0.375', 'JP')\n",
      "(2, 'Bullish', '0.481', 'DVD')\n",
      "(2, 'Bullish', '0.382', 'LIFE')\n",
      "(2, 'Bullish', '0.43', 'PBR')\n",
      "(2, 'Bullish', '0.3', 'BR')\n",
      "(2, 'Bearish', '-0.276', 'XOM')\n",
      "(2, 'Bearish', '-0.138', 'RSI')\n",
      "(2, 'Bearish', '-0.561', 'PUMP')\n",
      "(2, 'Bullish', '0.039', 'ONE')\n",
      "(2, 'Bearish', '-0.271', 'IBKR')\n",
      "(2, 'Bullish', '0.032', 'DIS')\n",
      "(2, 'Bearish', '-0.115', 'ATVI')\n"
     ]
    }
   ],
   "source": [
    "# Consulta SELECT\n",
    "\n",
    "cursor = connection.cursor()\n",
    "cursor.execute(\"SELECT * FROM entregable2\")\n",
    "rows = cursor.fetchall()\n",
    "\n",
    "for row in rows:\n",
    "    print(row)\n",
    "\n",
    "cursor.close()"
   ]
  },
  {
   "cell_type": "code",
   "execution_count": 8,
   "id": "05cb9483",
   "metadata": {},
   "outputs": [],
   "source": [
    "# Cerrar conexion\n",
    "\n",
    "connection.close()"
   ]
  }
 ],
 "metadata": {
  "kernelspec": {
   "display_name": "Python 3 (ipykernel)",
   "language": "python",
   "name": "python3"
  },
  "language_info": {
   "codemirror_mode": {
    "name": "ipython",
    "version": 3
   },
   "file_extension": ".py",
   "mimetype": "text/x-python",
   "name": "python",
   "nbconvert_exporter": "python",
   "pygments_lexer": "ipython3",
   "version": "3.9.1"
  }
 },
 "nbformat": 4,
 "nbformat_minor": 5
}
